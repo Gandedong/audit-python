{
 "cells": [
  {
   "cell_type": "code",
   "execution_count": 8,
   "metadata": {},
   "outputs": [
    {
     "name": "stderr",
     "output_type": "stream",
     "text": [
      "<ipython-input-8-5d4fedebeaab>:10: DeprecationWarning: Call to deprecated function get_sheet_by_name (Use wb[sheetname]).\n",
      "  sheet = wb.get_sheet_by_name(\"录入分录明细\")\n"
     ]
    }
   ],
   "source": [
    "import pyautogui as pag  ##先用pip3 install python3-xlib，\n",
    "#再用pip3 install pyautogui进行安装\n",
    "import pyperclip\n",
    "import openpyxl\n",
    "import time\n",
    "pag.PAUSE = 0.8# pyautogui.PAUSE函数在pyautogui中含义是每一步停留时间间隔，\n",
    "#模块默认值是0.1秒，不过我用的财务软件反应不过来，因此延长了时间设置成了0.5秒。\n",
    "pag.FAILSAFE = True\n",
    "wb = openpyxl.load_workbook(\"带辅助核算凭证模板.xlsx\", data_only=True)\n",
    "sheet = wb.get_sheet_by_name(\"录入分录明细\")\n",
    "max_row = sheet.max_row# 读取excel中的最大行\n",
    "max_column=sheet.max_column##读取最大列"
   ]
  },
  {
   "cell_type": "code",
   "execution_count": 11,
   "metadata": {},
   "outputs": [
    {
     "name": "stdout",
     "output_type": "stream",
     "text": [
      "i=2,str(sheet.cell(x,4).value)\n",
      "i=3,str(sheet.cell(x,5).value)\n",
      "i=4,保存赁证\n",
      "i=5,str(sheet.cell(x,4).value)\n",
      "i=6,str(sheet.cell(x,5).value)\n"
     ]
    }
   ],
   "source": [
    "pag.click(766, 365) # 增加凭证\")\n",
    "pag.hotkey('Enter')##回车 \n",
    "pag.hotkey('Enter')##回车 \n",
    "pag.hotkey('Enter')##回车 \n",
    "for x in range(2,max_row+1):\n",
    "    #pyperclip.copy(str(sheet.cell(x,1).value))##复制EXCEL中的摘要\n",
    "    #pag.hotkey('ctrl', 'v')##粘贴单元格\n",
    "    #pag.hotkey('Tab')###回车 ##热键Tab到科目代码栏\n",
    "    #pag.typewrite(str(sheet.cell(x,2).value))##输入科目代码\n",
    "    #pag.hotkey('Tab')##热键Tab到科目代码栏 \n",
    "    if sheet.cell(x,4).value is None:\n",
    "        pag.click(755, 392) # 点击保存\n",
    "        pag.click(766, 365) # 增加凭证\")\n",
    "        pag.hotkey('Enter')##回车 \n",
    "        pag.hotkey('Enter')##回车 \n",
    "        pag.hotkey('Enter')##回车 \n",
    "        print(f\"i={x},保存赁证\")\n",
    "        continue\n",
    "    if sheet.cell(x,4).value==\"贷\":\n",
    "        pag.hotkey('Backspace')\n",
    "        #pag.click(680, 480 + (x%2)*40) ##点击摘要\n",
    "        pyperclip.copy(str(sheet.cell(x,1).value))##复制EXCEL中的摘要\n",
    "        pag.hotkey('ctrl','v')##粘贴单元格\n",
    "        pag.hotkey('Tab')###回车 ##热键Tab到科目代码栏\n",
    "        pag.typewrite(str(sheet.cell(x,2).value))##输入科目代码\n",
    "        if sheet.cell(x,3).value is not None:  # 判断是否有辅助核算\n",
    "            pag.hotkey('Tab')###回车 ##热键Tab到科目代码栏\n",
    "            pyperclip.copy(str(sheet.cell(x,3).value))##复制EXCEL中的摘要\n",
    "            pag.hotkey('ctrl','v')##粘贴单元格\n",
    "            pag.click(1074, 525)##点击放大镜确认\n",
    "            pag.hotkey('Enter')##回车\n",
    "            pag.click(1148, 515)##点击确认\n",
    "        else:\n",
    "            pag.hotkey('Tab')###回车 ##热键Tab到科目代码栏\n",
    "        pag.hotkey('Tab')###回车 ##热键Tab到科目代码栏\n",
    "        pag.typewrite(str(sheet.cell(x,6).value))##输入贷方\n",
    "        pag.hotkey('Enter')##回车\n",
    "        #pag.click(983, 622) # 点击确认\n",
    "        pag.hotkey('Backspace')\n",
    "        print(f\"i={x},str(sheet.cell(x,5).value)\")\n",
    "    else:\n",
    "        pag.hotkey('Backspace')\n",
    "        pag.click(683, 486 + (x%2)*40) ##点击摘要\n",
    "        pyperclip.copy(str(sheet.cell(x,1).value))##复制EXCEL中的摘要\n",
    "        pag.hotkey('ctrl','v')##粘贴单元格\n",
    "        pag.hotkey('Tab')###回车 ##热键Tab到科目代码栏\n",
    "        pag.typewrite(str(sheet.cell(x,2).value))##输入科目代码\n",
    "        if sheet.cell(x,3).value is not None:  # 判断是否有辅助核算\n",
    "            pag.hotkey('Tab')###回车 ##热键Tab到科目代码栏\n",
    "            pyperclip.copy(str(sheet.cell(x,3).value))##复制EXCEL中的摘要\n",
    "            pag.hotkey('ctrl','v')##粘贴单元格\n",
    "            pag.click(1074, 525)##点击放大镜确认\n",
    "            pag.hotkey('Enter')##回车\n",
    "            pag.click(1148, 515)##点击确认\n",
    "        else:\n",
    "            pag.hotkey('Tab')###回车 ##热键Tab到科目代码栏\n",
    "        pag.typewrite(str(sheet.cell(x,5).value))##输入借方\n",
    "        pag.hotkey('Enter')##回车\n",
    "        print(f\"i={x},str(sheet.cell(x,4).value)\")\n",
    "        ##    elif str(sheet.cell(x,3).value==\"借\"):\n",
    "        ##pag.hotkey('Tab')###回车 ##热键Tab到科目代码栏\n",
    "        ##pag.typewrite(str(sheet.cell(x,4).value))##输入贷方\n",
    "        #print(f\"i={x},str(sheet.cell(x,4).value)\")"
   ]
  },
  {
   "cell_type": "code",
   "execution_count": null,
   "metadata": {},
   "outputs": [],
   "source": []
  }
 ],
 "metadata": {
  "kernelspec": {
   "display_name": "Python 3",
   "language": "python",
   "name": "python3"
  },
  "language_info": {
   "codemirror_mode": {
    "name": "ipython",
    "version": 3
   },
   "file_extension": ".py",
   "mimetype": "text/x-python",
   "name": "python",
   "nbconvert_exporter": "python",
   "pygments_lexer": "ipython3",
   "version": "3.8.5"
  }
 },
 "nbformat": 4,
 "nbformat_minor": 4
}
